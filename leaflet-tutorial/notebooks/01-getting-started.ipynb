{
 "cells": [
  {
   "cell_type": "markdown",
   "metadata": {},
   "source": [
    "This is taken from dash-leaflet documentation at https://dash-leaflet.herokuapp.com/ but has been adapted for jupyter-dash."
   ]
  },
  {
   "cell_type": "markdown",
   "metadata": {},
   "source": [
    "# Getting started\n",
    "The easiest way to get started is to install the latest version of `dash`, `dash-leaflet` and (optionally) `dash-extensions` via pip,\n",
    "\n",
    "```\n",
    "pip install dash==1.18.1\n",
    "pip install dash-leaflet==0.1.12\n",
    "pip install dash-extensions==0.0.41\n",
    "```\n",
    "Once the installation is completed, paste the following lines of code into a .py file and run it.\n",
    "\n",
    "**Note this code has been adapted to run in Jupyter Dash**\n",
    "\n",
    "That's it! You have now created your first interactive map with Dash Leaflet. If you visit http://127.0.0.1:8050/ in your browser, you should see a map similar to the one shown below.\n",
    "\n",
    "**The above snipet is not necessary in JupyterDash. Use mode=`inline` instead**"
   ]
  },
  {
   "cell_type": "code",
   "execution_count": 1,
   "metadata": {},
   "outputs": [],
   "source": [
    "import dash\n",
    "import dash_leaflet as dl\n",
    "from jupyter_dash import JupyterDash\n",
    "import random"
   ]
  },
  {
   "cell_type": "code",
   "execution_count": 3,
   "metadata": {},
   "outputs": [],
   "source": [
    "JupyterDash.infer_jupyter_proxy_config()"
   ]
  },
  {
   "cell_type": "code",
   "execution_count": 4,
   "metadata": {},
   "outputs": [],
   "source": [
    "app = JupyterDash()\n",
    "app.layout = dl.Map(dl.TileLayer(), style={'width': '1000px', 'height': '500px'})"
   ]
  },
  {
   "cell_type": "code",
   "execution_count": 5,
   "metadata": {},
   "outputs": [
    {
     "data": {
      "text/html": [
       "\n",
       "        <iframe\n",
       "            width=\"100%\"\n",
       "            height=\"650\"\n",
       "            src=\"https://analyst.whilabs.org/tensorflow/00uj3jrejroWbB2pY0h7/proxy/7797/\"\n",
       "            frameborder=\"0\"\n",
       "            allowfullscreen\n",
       "        ></iframe>\n",
       "        "
      ],
      "text/plain": [
       "<IPython.lib.display.IFrame at 0x7fdf29611790>"
      ]
     },
     "metadata": {},
     "output_type": "display_data"
    }
   ],
   "source": [
    "app.run_server(mode='inline',port=random.choice(range(2000,10000)))"
   ]
  },
  {
   "cell_type": "code",
   "execution_count": null,
   "metadata": {},
   "outputs": [],
   "source": []
  }
 ],
 "metadata": {
  "kernelspec": {
   "display_name": "Python 3",
   "language": "python",
   "name": "python3"
  },
  "language_info": {
   "codemirror_mode": {
    "name": "ipython",
    "version": 3
   },
   "file_extension": ".py",
   "mimetype": "text/x-python",
   "name": "python",
   "nbconvert_exporter": "python",
   "pygments_lexer": "ipython3",
   "version": "3.8.5"
  }
 },
 "nbformat": 4,
 "nbformat_minor": 4
}
